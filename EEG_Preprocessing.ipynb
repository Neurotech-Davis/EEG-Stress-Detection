{
  "nbformat": 4,
  "nbformat_minor": 0,
  "metadata": {
    "colab": {
      "provenance": []
    },
    "kernelspec": {
      "name": "python3",
      "display_name": "Python 3"
    },
    "language_info": {
      "name": "python"
    }
  },
  "cells": [
    {
      "cell_type": "markdown",
      "source": [
        "hi bye"
      ],
      "metadata": {
        "id": "E8hsV7dbcxM6"
      }
    },
    {
      "cell_type": "code",
      "source": [
        "from google.colab import drive\n",
        "drive.mount(\"/content/drive/\")"
      ],
      "metadata": {
        "id": "4BG4degiHQ37"
      },
      "execution_count": null,
      "outputs": []
    },
    {
      "cell_type": "code",
      "source": [
        "import pandas as pd\n",
        "import numpy as np\n",
        "!pip install mne\n",
        "import mne "
      ],
      "metadata": {
        "id": "xGy1gJKLHabQ"
      },
      "execution_count": null,
      "outputs": []
    },
    {
      "cell_type": "code",
      "source": [
        "#### Load data ####\n",
        "raw_data = {\"nabeha\":[], \"heidi\":[], \"avni\":[]}\n",
        "\n",
        "# Iterate thru all trials for each subject\n",
        "for subj in raw_data.keys():\n",
        "  for i in range(1,6):\n",
        "    # Load data from CSV into an array\n",
        "    trial_data = np.genfromtxt('/content/drive/Shareddrives/Neuromancers_Data/'+subj+'_data/OpenBCISession_'+subj+'_'+str(i)+'/BrainFlow-RAW_'+subj+'_'+str(i)+'_0.csv', delimiter='\\t', dtype=str)\n",
        "    trial_data = np.char.replace(trial_data, '\\t', ' ')\n",
        "    trial_data = trial_data.astype(float)\n",
        "\n",
        "    # Declares channel names and types of each set of data\n",
        "    ch_names = ['Channel {}'.format(i) for i in range(trial_data.shape[1])]\n",
        "    ch_types = ['eeg' for i in range(trial_data.shape[1])]\n",
        "\n",
        "    # Create info structures and RawArray objects for each set of data\n",
        "    sfreq = 250  # sample rate in Hz\n",
        "    info = mne.create_info(ch_names=ch_names, sfreq=sfreq, ch_types=ch_types)\n",
        "    raw_array = mne.io.RawArray(trial_data.T, info)\n",
        "\n",
        "    # Removing irrelevant channels\n",
        "    ch_names = [raw_array.ch_names]\n",
        "    ch_names_to_keep = [ch_names[0][0:10]]\n",
        "    raw_array = raw_array.pick_channels(ch_names_to_keep[0])\n",
        "\n",
        "    # Add RawArray\n",
        "    raw_data[subj].append(raw_array)"
      ],
      "metadata": {
        "id": "mFEhMDDM4cRX"
      },
      "execution_count": null,
      "outputs": []
    },
    {
      "cell_type": "code",
      "source": [
        "#### Truncate and filter data ####\n",
        "data_segments = pd.read_csv('/content/drive/Shareddrives/Neuromancers_Data/EEG_Data_Segmentation.csv')\n",
        "\n",
        "filtered_data = {\"nabeha\":[], \"heidi\":[], \"avni\":[]}\n",
        "\n",
        "# Iterate thru all trials for each subject\n",
        "for subj in filtered_data.keys():\n",
        "  for i in range(5):\n",
        "    # Filter current trial data\n",
        "    curr_trial = raw_data[subj][i]\n",
        "    print(curr_trial)\n",
        "    filtered_trial = curr_trial.copy().filter(l_freq=0.5, h_freq=45, picks=None, \n",
        "                                 method='fir', fir_design='firwin', \n",
        "                                 l_trans_bandwidth='auto', h_trans_bandwidth='auto', \n",
        "                                 filter_length='auto', phase='zero')\n",
        "    filtered_trial = filtered_trial.filter(l_freq=0.5, h_freq=45, picks=None, \n",
        "                                 method='iir', l_trans_bandwidth='auto',\n",
        "                                 h_trans_bandwidth='auto', filter_length='auto', phase='zero')\n",
        "    \n",
        "    # Crop filtered_trial to within experiment duration\n",
        "    curr_row = data_segments[data_segments[\"Participant\"] == subj+'_'+str(i+1)].index\n",
        "    start = data_segments.at[curr_row[0], \"Experiment Start\"]\n",
        "    end = data_segments.at[curr_row[0], \"Experiment End\"]\n",
        "    print(f\"{subj}_{str(i+1)}: {start} {end}\")\n",
        "    filtered_trial = filtered_trial.crop(tmin=start,tmax=end)\n",
        "    \n",
        "    # Add filtered_trial to filtered_data dictionary\n",
        "    filtered_data[subj].append(filtered_trial)"
      ],
      "metadata": {
        "id": "I9e1ytGGMEz4"
      },
      "execution_count": null,
      "outputs": []
    },
    {
      "cell_type": "code",
      "source": [
        "#### Check for bad channels ####\n",
        "for i in range(5):\n",
        "  print(f\"-------- Trial {i+1} --------\")\n",
        "  trial = filtered_data[\"nabeha\"][i]\n",
        "  trial.plot(duration=20)\n",
        "  trial.plot_psd(fmax=45)"
      ],
      "metadata": {
        "id": "ub8OLBQJrbzr"
      },
      "execution_count": null,
      "outputs": []
    }
  ]
}
